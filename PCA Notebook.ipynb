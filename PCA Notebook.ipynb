{
 "cells": [
  {
   "cell_type": "code",
   "execution_count": 20,
   "metadata": {},
   "outputs": [],
   "source": [
    "import pandas as pd\n",
    "import numpy as np\n",
    "import matplotlib.pyplot as plt"
   ]
  },
  {
   "cell_type": "markdown",
   "metadata": {},
   "source": [
    "# Get Data"
   ]
  },
  {
   "cell_type": "markdown",
   "metadata": {},
   "source": [
    "Get the Daily Interest Rate swaps data from ICE based on 11:00am London Time. Swap data here has been taken and aggregated from: https://fred.stlouisfed.org/ "
   ]
  },
  {
   "cell_type": "code",
   "execution_count": 3,
   "metadata": {
    "code_folding": [
     0
    ]
   },
   "outputs": [],
   "source": [
    "#Read data from csv file\n",
    "swaps_data = pd.read_csv(\"all_swaps_data.csv\", index_col = 0)\n",
    "swaps_data.index = pd.to_datetime(swaps_data.index)\n",
    "swaps_data = swaps_data.sort_index()"
   ]
  },
  {
   "cell_type": "code",
   "execution_count": 4,
   "metadata": {},
   "outputs": [
    {
     "data": {
      "text/html": [
       "<div>\n",
       "<style scoped>\n",
       "    .dataframe tbody tr th:only-of-type {\n",
       "        vertical-align: middle;\n",
       "    }\n",
       "\n",
       "    .dataframe tbody tr th {\n",
       "        vertical-align: top;\n",
       "    }\n",
       "\n",
       "    .dataframe thead th {\n",
       "        text-align: right;\n",
       "    }\n",
       "</style>\n",
       "<table border=\"1\" class=\"dataframe\">\n",
       "  <thead>\n",
       "    <tr style=\"text-align: right;\">\n",
       "      <th></th>\n",
       "      <th>1Y</th>\n",
       "      <th>2Y</th>\n",
       "      <th>3Y</th>\n",
       "      <th>4Y</th>\n",
       "      <th>5Y</th>\n",
       "      <th>6Y</th>\n",
       "      <th>7Y</th>\n",
       "      <th>8Y</th>\n",
       "      <th>9Y</th>\n",
       "      <th>10Y</th>\n",
       "      <th>15Y</th>\n",
       "      <th>20Y</th>\n",
       "      <th>30Y</th>\n",
       "    </tr>\n",
       "    <tr>\n",
       "      <th>DATE</th>\n",
       "      <th></th>\n",
       "      <th></th>\n",
       "      <th></th>\n",
       "      <th></th>\n",
       "      <th></th>\n",
       "      <th></th>\n",
       "      <th></th>\n",
       "      <th></th>\n",
       "      <th></th>\n",
       "      <th></th>\n",
       "      <th></th>\n",
       "      <th></th>\n",
       "      <th></th>\n",
       "    </tr>\n",
       "  </thead>\n",
       "  <tbody>\n",
       "    <tr>\n",
       "      <th>2020-12-25</th>\n",
       "      <td>0.196</td>\n",
       "      <td>0.208</td>\n",
       "      <td>0.250</td>\n",
       "      <td>0.339</td>\n",
       "      <td>0.446</td>\n",
       "      <td>0.559</td>\n",
       "      <td>0.668</td>\n",
       "      <td>0.768</td>\n",
       "      <td>0.859</td>\n",
       "      <td>0.939</td>\n",
       "      <td>1.202</td>\n",
       "      <td>1.327</td>\n",
       "      <td>1.414</td>\n",
       "    </tr>\n",
       "    <tr>\n",
       "      <th>2020-12-28</th>\n",
       "      <td>0.198</td>\n",
       "      <td>0.212</td>\n",
       "      <td>0.257</td>\n",
       "      <td>0.350</td>\n",
       "      <td>0.460</td>\n",
       "      <td>0.576</td>\n",
       "      <td>0.687</td>\n",
       "      <td>0.789</td>\n",
       "      <td>0.881</td>\n",
       "      <td>0.963</td>\n",
       "      <td>1.228</td>\n",
       "      <td>1.355</td>\n",
       "      <td>1.445</td>\n",
       "    </tr>\n",
       "    <tr>\n",
       "      <th>2020-12-29</th>\n",
       "      <td>0.200</td>\n",
       "      <td>0.210</td>\n",
       "      <td>0.253</td>\n",
       "      <td>0.342</td>\n",
       "      <td>0.449</td>\n",
       "      <td>0.565</td>\n",
       "      <td>0.675</td>\n",
       "      <td>0.775</td>\n",
       "      <td>0.867</td>\n",
       "      <td>0.947</td>\n",
       "      <td>1.215</td>\n",
       "      <td>1.343</td>\n",
       "      <td>1.432</td>\n",
       "    </tr>\n",
       "    <tr>\n",
       "      <th>2020-12-30</th>\n",
       "      <td>0.194</td>\n",
       "      <td>0.204</td>\n",
       "      <td>0.248</td>\n",
       "      <td>0.336</td>\n",
       "      <td>0.443</td>\n",
       "      <td>0.560</td>\n",
       "      <td>0.671</td>\n",
       "      <td>0.772</td>\n",
       "      <td>0.863</td>\n",
       "      <td>0.945</td>\n",
       "      <td>1.214</td>\n",
       "      <td>1.343</td>\n",
       "      <td>1.432</td>\n",
       "    </tr>\n",
       "    <tr>\n",
       "      <th>2020-12-31</th>\n",
       "      <td>0.193</td>\n",
       "      <td>0.200</td>\n",
       "      <td>0.243</td>\n",
       "      <td>0.329</td>\n",
       "      <td>0.432</td>\n",
       "      <td>0.548</td>\n",
       "      <td>0.658</td>\n",
       "      <td>0.758</td>\n",
       "      <td>0.848</td>\n",
       "      <td>0.928</td>\n",
       "      <td>1.196</td>\n",
       "      <td>1.324</td>\n",
       "      <td>1.413</td>\n",
       "    </tr>\n",
       "  </tbody>\n",
       "</table>\n",
       "</div>"
      ],
      "text/plain": [
       "               1Y     2Y     3Y     4Y     5Y     6Y     7Y     8Y     9Y  \\\n",
       "DATE                                                                        \n",
       "2020-12-25  0.196  0.208  0.250  0.339  0.446  0.559  0.668  0.768  0.859   \n",
       "2020-12-28  0.198  0.212  0.257  0.350  0.460  0.576  0.687  0.789  0.881   \n",
       "2020-12-29  0.200  0.210  0.253  0.342  0.449  0.565  0.675  0.775  0.867   \n",
       "2020-12-30  0.194  0.204  0.248  0.336  0.443  0.560  0.671  0.772  0.863   \n",
       "2020-12-31  0.193  0.200  0.243  0.329  0.432  0.548  0.658  0.758  0.848   \n",
       "\n",
       "              10Y    15Y    20Y    30Y  \n",
       "DATE                                    \n",
       "2020-12-25  0.939  1.202  1.327  1.414  \n",
       "2020-12-28  0.963  1.228  1.355  1.445  \n",
       "2020-12-29  0.947  1.215  1.343  1.432  \n",
       "2020-12-30  0.945  1.214  1.343  1.432  \n",
       "2020-12-31  0.928  1.196  1.324  1.413  "
      ]
     },
     "execution_count": 4,
     "metadata": {},
     "output_type": "execute_result"
    }
   ],
   "source": [
    "swaps_data.tail()"
   ]
  },
  {
   "cell_type": "markdown",
   "metadata": {},
   "source": [
    "** A brief primer on Interest Rate Swaps:** <br/>\n",
    "- An interest rate swap is an agreement where one party (Party A) pays a fixed rate ($x$) while the other party (Party B) pays a floating rate ($f$) that is determined by the London Interbank Offer Rate (LIBOR).<br/>\n",
    "- The most conventional type of Interest Rate Swap is a Semi-Bond interest rate swap where Party A (the payer of the fixed rate) will pay Party B a fixed rate of $x$ every 6 months while Party B (the payer of the floating rate) will pay Party A a floating rate of $f$ every 3 months. <br/>\n",
    "- Note that $f$ is only known 2 days before Party B pays Party A while $x$ is known when the agreement is being made. <br/>\n",
    "\n",
    "** So what is the Swap Rate that we see in the dataframe above? ** <br/>\n",
    "- The dataframe above shows the fixed rate $x$ that Party A is to pay Party B every 6 months while receiving the floating rate $f$ from Party B every 3 months <br/>\n",
    "- Mathematically, $x$ is set such that the Interest Rate Swap is a \"fair deal\" (in laymen terms) or where the Interest Rate Swap has a Present Value of 0.\n"
   ]
  },
  {
   "cell_type": "markdown",
   "metadata": {},
   "source": [
    "## Swap Curve"
   ]
  },
  {
   "cell_type": "markdown",
   "metadata": {},
   "source": [
    "We can visualize how the swap curve look like for a given day. Using 31st Dec 2020, where the x-axis is the tenor of the swap while the y-axis is the swap rate:"
   ]
  },
  {
   "cell_type": "code",
   "execution_count": 5,
   "metadata": {
    "code_folding": []
   },
   "outputs": [
    {
     "data": {
      "image/png": "[encoded data removed]",
      "text/plain": [
       "<Figure size 1440x360 with 1 Axes>"
      ]
     },
     "metadata": {},
     "output_type": "display_data"
    }
   ],
   "source": [
    "#Plot of swap curve for 31st Dec 2020\n",
    "data_point = swaps_data.loc['2020-12-31', :]\n",
    "tenors = [int(s[:-1]) for s in data_point.index]\n",
    "plt.figure(figsize=(20, 5))\n",
    "plt.plot(tenors, data_point, marker = \"o\")\n",
    "plt.title(\"Plot of Swap Rates on 31st Dec 2020\")\n",
    "plt.xlabel(\"Tenor\")\n",
    "plt.ylabel(\"Swap Rate (%)\");"
   ]
  },
  {
   "cell_type": "markdown",
   "metadata": {},
   "source": [
    "## Problem for Traders and Portfolio Managers"
   ]
  },
  {
   "cell_type": "markdown",
   "metadata": {},
   "source": [
    "In a particularly fast-paced environment, it will be hard for traders and portfolio managers to manage their risk with a huge number of Interest Rate Swaps due to the many swap tenors that might be in their portfolio. Thus, some sort of dimension reduction technique must be used to reduce their portfolio risk to something that is more simplistic and easier to manage. We look for a simple, tractable and intuitive method for dimension reduction: Principal Component Analysis <br/>"
   ]
  },
  {
   "cell_type": "markdown",
   "metadata": {},
   "source": [
    "## Principal Component Analysis\n",
    "- We determine the number of dimensions $d$ to reduce our data set to. <br\\>\n",
    "- The goal of PCA here is to get $d$ projection vectors such that the variance explained by these vectors are maximized. <br\\>\n",
    "- Mathematically, the top $d$ projection vectors are the eigenvectors that correspond to the top $d$ eigenvalues of the covariance matrix. <br\\>"
   ]
  },
  {
   "cell_type": "code",
   "execution_count": null,
   "metadata": {
    "code_folding": [
     0
    ]
   },
   "outputs": [],
   "source": [
    "def get_eigenvectors(cov_df):\n",
    "    \"Function to get eigenvalues and eigenvectors of the covariance matrix\"\n",
    "    vals, vecs = np.linalg.eigh(cov_df)\n",
    "    #sort the indices based on the eigenvalues\n",
    "    idx = np.argsort(vals)[::-1]\n",
    "    vecs = vecs[:,idx]\n",
    "    vals = vals[idx]\n",
    "    return vals, vecs"
   ]
  },
  {
   "cell_type": "markdown",
   "metadata": {},
   "source": [
    "#### Step 1: Get the swap changes\n",
    "We arbitrarily use 100 data points in for the training data set and the rest of the data for the test data set. Rate changes instead of swap rate levels are used as swap rates usually exhibit auto-correlation which will affect the descriptive ability of PCA. "
   ]
  },
  {
   "cell_type": "code",
   "execution_count": null,
   "metadata": {},
   "outputs": [],
   "source": [
    "#Get differences and drop all NAs\n",
    "changes = swaps_data.diff().dropna() \n",
    "changes_train = changes.iloc[:100]\n",
    "changes_test = changes.iloc[100:]"
   ]
  },
  {
   "cell_type": "markdown",
   "metadata": {},
   "source": [
    "#### Step 2: Carry out PCA \n",
    "- We specify the number of dimensions to reduce to: 3<br\\> \n",
    "- With the data we have, we get the covariance matrix <br\\>\n",
    "- Get the eigenvectors correspond to the top 3 eigenvalues <br\\>"
   ]
  },
  {
   "cell_type": "code",
   "execution_count": null,
   "metadata": {
    "code_folding": []
   },
   "outputs": [],
   "source": [
    "#Carry out PCA on training dataset\n",
    "num_components = 3 #Number of dimensions\n",
    "evals, evecs = get_eigenvectors(changes_train.cov())\n",
    "pcs = evecs[:, :num_components]"
   ]
  },
  {
   "cell_type": "markdown",
   "metadata": {},
   "source": [
    "## Principal Component Plots\n",
    "There are two plots below:"
   ]
  },
  {
   "cell_type": "markdown",
   "metadata": {},
   "source": [
    "### 1) Plot of PC Coefficients"
   ]
  },
  {
   "cell_type": "code",
   "execution_count": null,
   "metadata": {
    "code_folding": [
     0
    ]
   },
   "outputs": [],
   "source": [
    "#PC Coefs Plot\n",
    "fig, ax = plt.subplots(3,1, figsize = (20,10))\n",
    "\n",
    "plt.subplots_adjust(hspace = 0.3)\n",
    "ax[0].bar(changes.columns, pcs[:,0])\n",
    "ax[0].set_title(\"First Principal Component (Level)\")\n",
    "ax[1].bar(changes.columns, pcs[:,1], color = \"maroon\")\n",
    "ax[1].set_title(\"Second Principal Component (Curve)\")\n",
    "ax[2].bar(changes.columns, pcs[:,2], color = \"violet\")\n",
    "ax[2].set_title(\"Third Principal Component (Fly)\")\n",
    "fig.suptitle(\"Bar Plot of Principal Component Coefficients\", fontsize=15);"
   ]
  },
  {
   "cell_type": "markdown",
   "metadata": {},
   "source": [
    "**First Component**: <br/>\n",
    "- Usually termed `level`. We can see that all the coefficents in PC1 have the same sign.<br/>\n",
    "- This means that all the swap rates usually move in the same direction <br/>\n",
    "\n",
    "**Second Component**: <br/>\n",
    "- Usually termed `curve`. We can see that the coefficients across the tenors are in a descending order. <br/>\n",
    "- This means that after the first component is accounted for, the shorter tenors move in the opposite direction as the longer tenors\n",
    "\n",
    "**Third Component**: <br/>\n",
    "- Usually termed `fly` or `twist`. We can see that the coefficients of the shorter and the longer tenors have the same signs while the middle tenors usually have opposite signs. <br/>\n",
    "- This means that after the first and second components are accounted for, the shorter tenors move in the same direction while the middle tenors move in the opposite direction."
   ]
  },
  {
   "cell_type": "markdown",
   "metadata": {},
   "source": [
    "### 2) Plot of Total Variance explained"
   ]
  },
  {
   "cell_type": "code",
   "execution_count": null,
   "metadata": {
    "code_folding": [
     0
    ]
   },
   "outputs": [],
   "source": [
    "#Variance Plot\n",
    "plt.figure(figsize = (10,5))\n",
    "plt.plot(np.arange(1, len(evals) + 1), (evals/evals.sum()).cumsum(), marker = \"o\")\n",
    "plt.title(\"Plot of cumulative % of Total Variance Explained\")\n",
    "plt.xlabel(\"Number of Principal Components\")\n",
    "plt.ylabel(\"Cumulative % of Variance Explained\")\n",
    "plt.axvline(x = 3, color = \"red\", ls='--');"
   ]
  },
  {
   "cell_type": "markdown",
   "metadata": {},
   "source": [
    "The interpretations of the respective principal components were explained in the previous figure. This figure shows the cumulative variance explained as we add more factors/ increase the dimensionality of the transformed data. 3 components are usually used as they account for almost 99% of the total variance and will still remain interpretable."
   ]
  },
  {
   "cell_type": "markdown",
   "metadata": {},
   "source": [
    "## How Principal Components can be used:"
   ]
  },
  {
   "cell_type": "markdown",
   "metadata": {},
   "source": [
    "### i) Risk Management\n",
    "Manage risk to factors instead of risk to multiple tenors"
   ]
  },
  {
   "cell_type": "markdown",
   "metadata": {},
   "source": [
    "Assume that a Trader has a portfolio of swaps with risk such as:"
   ]
  },
  {
   "cell_type": "code",
   "execution_count": 106,
   "metadata": {
    "code_folding": []
   },
   "outputs": [
    {
     "data": {
      "text/html": [
       "<div>\n",
       "<style scoped>\n",
       "    .dataframe tbody tr th:only-of-type {\n",
       "        vertical-align: middle;\n",
       "    }\n",
       "\n",
       "    .dataframe tbody tr th {\n",
       "        vertical-align: top;\n",
       "    }\n",
       "\n",
       "    .dataframe thead th {\n",
       "        text-align: right;\n",
       "    }\n",
       "</style>\n",
       "<table border=\"1\" class=\"dataframe\">\n",
       "  <thead>\n",
       "    <tr style=\"text-align: right;\">\n",
       "      <th></th>\n",
       "      <th>1Y</th>\n",
       "      <th>2Y</th>\n",
       "      <th>3Y</th>\n",
       "      <th>4Y</th>\n",
       "      <th>5Y</th>\n",
       "      <th>6Y</th>\n",
       "      <th>7Y</th>\n",
       "      <th>8Y</th>\n",
       "      <th>9Y</th>\n",
       "      <th>10Y</th>\n",
       "      <th>15Y</th>\n",
       "      <th>20Y</th>\n",
       "      <th>30Y</th>\n",
       "    </tr>\n",
       "  </thead>\n",
       "  <tbody>\n",
       "    <tr>\n",
       "      <th>Risk</th>\n",
       "      <td>0</td>\n",
       "      <td>5000</td>\n",
       "      <td>-95000</td>\n",
       "      <td>30000</td>\n",
       "      <td>-20000</td>\n",
       "      <td>3000</td>\n",
       "      <td>56000</td>\n",
       "      <td>78000</td>\n",
       "      <td>-45000</td>\n",
       "      <td>30000</td>\n",
       "      <td>50000</td>\n",
       "      <td>-1200</td>\n",
       "      <td>40000</td>\n",
       "    </tr>\n",
       "  </tbody>\n",
       "</table>\n",
       "</div>"
      ],
      "text/plain": [
       "      1Y    2Y     3Y     4Y     5Y    6Y     7Y     8Y     9Y    10Y    15Y  \\\n",
       "Risk   0  5000 -95000  30000 -20000  3000  56000  78000 -45000  30000  50000   \n",
       "\n",
       "       20Y    30Y  \n",
       "Risk -1200  40000  "
      ]
     },
     "execution_count": 106,
     "metadata": {},
     "output_type": "execute_result"
    }
   ],
   "source": [
    "#Hypothetical Risk Portfolio\n",
    "portfolio_risk = pd.DataFrame(index = changes.columns)\n",
    "portfolio_risk[\"Risk\"] = [0, 5000, -95000, 30000, -20000, 3000, 56000, 78000, -45000, 30000, 50000, -1200, 40000]\n",
    "portfolio_risk.T"
   ]
  },
  {
   "cell_type": "code",
   "execution_count": null,
   "metadata": {},
   "outputs": [],
   "source": [
    "portfolio_risk.sum()"
   ]
  },
  {
   "cell_type": "markdown",
   "metadata": {},
   "source": [
    "*The risk table can be interpreted as the change to the portfolio value if the relevant swap rate moves by 1 bp ($0.01$%). For example, based on the risk table, the portfolio's risk to the `30Y` swap rate is \\$ $40,000$. If the `30Y` swap rate moves by $0.01$% ($1.30$% to $1.31$%), the portfolio will gain \\$ $40,000$."
   ]
  },
  {
   "cell_type": "code",
   "execution_count": 107,
   "metadata": {
    "code_folding": [
     0
    ]
   },
   "outputs": [
    {
     "data": {
      "text/html": [
       "<div>\n",
       "<style scoped>\n",
       "    .dataframe tbody tr th:only-of-type {\n",
       "        vertical-align: middle;\n",
       "    }\n",
       "\n",
       "    .dataframe tbody tr th {\n",
       "        vertical-align: top;\n",
       "    }\n",
       "\n",
       "    .dataframe thead th {\n",
       "        text-align: right;\n",
       "    }\n",
       "</style>\n",
       "<table border=\"1\" class=\"dataframe\">\n",
       "  <thead>\n",
       "    <tr style=\"text-align: right;\">\n",
       "      <th></th>\n",
       "      <th>PC1</th>\n",
       "      <th>PC2</th>\n",
       "      <th>PC3</th>\n",
       "    </tr>\n",
       "  </thead>\n",
       "  <tbody>\n",
       "    <tr>\n",
       "      <th>Risk</th>\n",
       "      <td>42253.559277</td>\n",
       "      <td>-62075.014294</td>\n",
       "      <td>3894.541948</td>\n",
       "    </tr>\n",
       "  </tbody>\n",
       "</table>\n",
       "</div>"
      ],
      "text/plain": [
       "               PC1           PC2          PC3\n",
       "Risk  42253.559277 -62075.014294  3894.541948"
      ]
     },
     "execution_count": 107,
     "metadata": {},
     "output_type": "execute_result"
    }
   ],
   "source": [
    "#PC Risk Dataframe\n",
    "pc1 = pcs[:, 0]\n",
    "pc2 = pcs[:, 1]\n",
    "pc3 = pcs[:, 2]\n",
    "\n",
    "#Collapse the risk to factor risk\n",
    "pc1_risk = np.dot(portfolio_risk.T, pc1)[0]\n",
    "pc2_risk = np.dot(portfolio_risk.T, pc2)[0]\n",
    "pc3_risk = np.dot(portfolio_risk.T, pc3)[0]\n",
    "\n",
    "pc_df = pd.DataFrame(index = [\"PC1\", \"PC2\", \"PC3\"])\n",
    "pc_df[\"Risk\"] = [pc1_risk, pc2_risk, pc3_risk]\n",
    "pc_df.T"
   ]
  },
  {
   "cell_type": "markdown",
   "metadata": {},
   "source": [
    "Instead of seeing viewing the portfolio risks to a number of swap rates, the Trader can see his/her risk in a more simplistic way in terms of risk to PC factors. It will be easier for the Trader to manage risk to just a few factors instead of multiple swap instruments."
   ]
  },
  {
   "cell_type": "markdown",
   "metadata": {},
   "source": [
    "### ii) Hedging"
   ]
  },
  {
   "cell_type": "markdown",
   "metadata": {},
   "source": [
    "In expressing the portfolio risk in terms of risk to PC factors, PCA is also used for managing the hedging of the PC factors. Some tenors like 5Y, 10Y, 30Y swaps might be more liquid than 4Y, 7Y, 8Y swaps. Thus traders might prefer to hedge their portfolio risk with certain tenors. <br/> \n",
    "#### So, how would PCA help with this?"
   ]
  },
  {
   "cell_type": "markdown",
   "metadata": {
    "heading_collapsed": true
   },
   "source": [
    "##### a) Hedging All Risk\n",
    "Hedge all factor risk in the portfolio (Expand for Example)"
   ]
  },
  {
   "cell_type": "markdown",
   "metadata": {
    "hidden": true,
    "variables": {
     " pc1_risk ": "42253.55927660536",
     " pc2_risk ": "-62075.01429382399",
     " pc3_risk ": "3894.541947878948"
    }
   },
   "source": [
    "Following the previous example in `(i)`, our PC1 risk {{ pc1_risk }}, our PC2 risk is {{ pc2_risk }} and our PC3 risk is {{ pc3_risk }}. To completely hedge the PC1 risk, PC2 risk and PC3 risk, we need at least 3 instruments to hedge it. <br/>\n",
    "We need to figure our how much 5Y ($R_{5Y}$), 5Y ($R_{10Y}$) and 30Y ($R_{30Y}$) risk the portfolio should take on to be PC risk neutral. We can express it in 3 simultaneous equations to find $R_{5Y}$, $R_{10Y}$, $R_{30Y}$:"
   ]
  },
  {
   "cell_type": "markdown",
   "metadata": {
    "hidden": true
   },
   "source": [
    "$PC1_{5Y} \\cdot R_{5Y} + PC1_{10Y} \\cdot R_{10Y} + PC1_{30Y} \\cdot R_{30Y} =  -44496 \\rightarrow$ 1: To make portfolio PC1 neutral <br/>\n",
    "$PC2_{5Y} \\cdot R_{5Y} + PC2_{10Y} \\cdot R_{10Y} + PC2_{30Y} \\cdot R_{30Y} = 57311 \\rightarrow$ 1: To make portfolio PC2 neutral <br/>\n",
    "$PC3_{5Y} \\cdot R_{5Y} + PC3_{10Y} \\cdot R_{10Y} + PC3_{30Y} \\cdot R_{30Y} = -24020 \\rightarrow$ 1: To make portfolio PC3 neutral <br/>"
   ]
  },
  {
   "cell_type": "code",
   "execution_count": 108,
   "metadata": {
    "hidden": true
   },
   "outputs": [
    {
     "data": {
      "text/html": [
       "<div>\n",
       "<style scoped>\n",
       "    .dataframe tbody tr th:only-of-type {\n",
       "        vertical-align: middle;\n",
       "    }\n",
       "\n",
       "    .dataframe tbody tr th {\n",
       "        vertical-align: top;\n",
       "    }\n",
       "\n",
       "    .dataframe thead th {\n",
       "        text-align: right;\n",
       "    }\n",
       "</style>\n",
       "<table border=\"1\" class=\"dataframe\">\n",
       "  <thead>\n",
       "    <tr style=\"text-align: right;\">\n",
       "      <th></th>\n",
       "      <th>5Y</th>\n",
       "      <th>10Y</th>\n",
       "      <th>30Y</th>\n",
       "    </tr>\n",
       "  </thead>\n",
       "  <tbody>\n",
       "    <tr>\n",
       "      <th>0</th>\n",
       "      <td>0.297436</td>\n",
       "      <td>0.305257</td>\n",
       "      <td>0.286257</td>\n",
       "    </tr>\n",
       "    <tr>\n",
       "      <th>1</th>\n",
       "      <td>0.234612</td>\n",
       "      <td>-0.143970</td>\n",
       "      <td>-0.438754</td>\n",
       "    </tr>\n",
       "    <tr>\n",
       "      <th>2</th>\n",
       "      <td>0.148211</td>\n",
       "      <td>0.230309</td>\n",
       "      <td>0.500553</td>\n",
       "    </tr>\n",
       "  </tbody>\n",
       "</table>\n",
       "</div>"
      ],
      "text/plain": [
       "         5Y       10Y       30Y\n",
       "0  0.297436  0.305257  0.286257\n",
       "1  0.234612 -0.143970 -0.438754\n",
       "2  0.148211  0.230309  0.500553"
      ]
     },
     "execution_count": 108,
     "metadata": {},
     "output_type": "execute_result"
    }
   ],
   "source": [
    "pcs_df = pd.DataFrame(pcs).T\n",
    "pcs_df.columns = changes.columns\n",
    "pcs_df = pcs_df[[\"5Y\", \"10Y\", \"30Y\"]]\n",
    "pcs_df"
   ]
  },
  {
   "cell_type": "markdown",
   "metadata": {
    "hidden": true
   },
   "source": [
    "Given the principle components for 5Y, 10Y and 30Y swaps, we can solve for $R_{2Y}$, $R_{5Y}$ and $R_{10Y}$:"
   ]
  },
  {
   "cell_type": "markdown",
   "metadata": {
    "hidden": true
   },
   "source": [
    "$\\   0.29\\cdot R_{5Y} + 0.31 \\cdot R_{10Y} + 0.28 \\cdot R_{30Y} = -44496 \\rightarrow$ 1: To make portfolio PC1 neutral <br/>\n",
    "$     0.20 \\cdot R_{5Y} - 0.16\\cdot R_{10Y} - 0.48 \\cdot R_{30Y} = 57311 \\rightarrow$ 1: To make portfolio PC2 neutral <br/>\n",
    "$-0.27 \\cdot R_{5Y} - 0.20 \\cdot R_{10Y} - 0.13 \\cdot R_{30Y} = -24020 \\rightarrow$ 1: To make portfolio PC3 neutral <br/>"
   ]
  },
  {
   "cell_type": "code",
   "execution_count": 109,
   "metadata": {
    "hidden": true
   },
   "outputs": [
    {
     "data": {
      "text/html": [
       "<div>\n",
       "<style scoped>\n",
       "    .dataframe tbody tr th:only-of-type {\n",
       "        vertical-align: middle;\n",
       "    }\n",
       "\n",
       "    .dataframe tbody tr th {\n",
       "        vertical-align: top;\n",
       "    }\n",
       "\n",
       "    .dataframe thead th {\n",
       "        text-align: right;\n",
       "    }\n",
       "</style>\n",
       "<table border=\"1\" class=\"dataframe\">\n",
       "  <thead>\n",
       "    <tr style=\"text-align: right;\">\n",
       "      <th></th>\n",
       "      <th>5Y</th>\n",
       "      <th>10Y</th>\n",
       "      <th>30Y</th>\n",
       "    </tr>\n",
       "  </thead>\n",
       "  <tbody>\n",
       "    <tr>\n",
       "      <th>Risk</th>\n",
       "      <td>-245316.944061</td>\n",
       "      <td>531263.796558</td>\n",
       "      <td>-164021.865351</td>\n",
       "    </tr>\n",
       "  </tbody>\n",
       "</table>\n",
       "</div>"
      ],
      "text/plain": [
       "                 5Y            10Y            30Y\n",
       "Risk -245316.944061  531263.796558 -164021.865351"
      ]
     },
     "execution_count": 109,
     "metadata": {},
     "output_type": "execute_result"
    }
   ],
   "source": [
    "target_risk = np.dot(np.linalg.inv(pcs_df),  pc_df)\n",
    "target_risk_df = pd.DataFrame(index = [\"5Y\", \"10Y\", \"30Y\"])\n",
    "target_risk_df[\"Risk\"] = target_risk\n",
    "target_risk_df.T"
   ]
  },
  {
   "cell_type": "markdown",
   "metadata": {
    "hidden": true
   },
   "source": [
    "We can see that -245k of 5Y risk, 531k of 10Y risk and -164k of 30Y risk is needed to make the portfolio PC neutral. The risk of each swap tenor is greater than the risk in the existing tenors, but there are a few cavets to note: <br\\>\n",
    "1) There was a fair amount of PC1 and PC2 risk that the portfolio had <br\\>\n",
    "2) In practice, traders do not make their portfolio have 0 PC risk. <br\\>\n",
    "\n",
    "Nonetheless, a trader might be able to use PCA to make risk management far simpler as the trader does not have to think about each tenor inidivually.Thus, the PCA method does give a framework to simplify risk for traders."
   ]
  },
  {
   "cell_type": "markdown",
   "metadata": {},
   "source": [
    "#### b) Hedging one factor risk out\n",
    "Just Hedge PC1 risk"
   ]
  },
  {
   "cell_type": "markdown",
   "metadata": {},
   "source": [
    "Suppose that the trader just wants to hedge his/her PC1 risk out, but does not mind taking more PC2 and PC3 risk. Suppose too that the 10Y swap is the instrument chosen for hedging. "
   ]
  },
  {
   "cell_type": "code",
   "execution_count": null,
   "metadata": {},
   "outputs": [],
   "source": []
  },
  {
   "cell_type": "markdown",
   "metadata": {},
   "source": [
    "### iii) PnL Explanation\n",
    "Another huge use of PCA is profit and loss attribution. A portfolio of swaps might make money, but trying to figure out where this profit came from might be a bit tricky. Lets use 5 days of changes data as an example: <br/>"
   ]
  },
  {
   "cell_type": "code",
   "execution_count": 110,
   "metadata": {},
   "outputs": [
    {
     "data": {
      "text/html": [
       "<div>\n",
       "<style scoped>\n",
       "    .dataframe tbody tr th:only-of-type {\n",
       "        vertical-align: middle;\n",
       "    }\n",
       "\n",
       "    .dataframe tbody tr th {\n",
       "        vertical-align: top;\n",
       "    }\n",
       "\n",
       "    .dataframe thead th {\n",
       "        text-align: right;\n",
       "    }\n",
       "</style>\n",
       "<table border=\"1\" class=\"dataframe\">\n",
       "  <thead>\n",
       "    <tr style=\"text-align: right;\">\n",
       "      <th></th>\n",
       "      <th>1Y</th>\n",
       "      <th>2Y</th>\n",
       "      <th>3Y</th>\n",
       "      <th>4Y</th>\n",
       "      <th>5Y</th>\n",
       "      <th>6Y</th>\n",
       "      <th>7Y</th>\n",
       "      <th>8Y</th>\n",
       "      <th>9Y</th>\n",
       "      <th>10Y</th>\n",
       "      <th>15Y</th>\n",
       "      <th>20Y</th>\n",
       "      <th>30Y</th>\n",
       "    </tr>\n",
       "    <tr>\n",
       "      <th>DATE</th>\n",
       "      <th></th>\n",
       "      <th></th>\n",
       "      <th></th>\n",
       "      <th></th>\n",
       "      <th></th>\n",
       "      <th></th>\n",
       "      <th></th>\n",
       "      <th></th>\n",
       "      <th></th>\n",
       "      <th></th>\n",
       "      <th></th>\n",
       "      <th></th>\n",
       "      <th></th>\n",
       "    </tr>\n",
       "  </thead>\n",
       "  <tbody>\n",
       "    <tr>\n",
       "      <th>2016-05-24</th>\n",
       "      <td>0.008</td>\n",
       "      <td>0.017</td>\n",
       "      <td>0.018</td>\n",
       "      <td>0.019</td>\n",
       "      <td>0.018</td>\n",
       "      <td>0.018</td>\n",
       "      <td>0.016</td>\n",
       "      <td>0.016</td>\n",
       "      <td>0.016</td>\n",
       "      <td>0.016</td>\n",
       "      <td>0.015</td>\n",
       "      <td>0.016</td>\n",
       "      <td>0.017</td>\n",
       "    </tr>\n",
       "    <tr>\n",
       "      <th>2016-05-25</th>\n",
       "      <td>-0.004</td>\n",
       "      <td>-0.005</td>\n",
       "      <td>-0.003</td>\n",
       "      <td>-0.001</td>\n",
       "      <td>-0.001</td>\n",
       "      <td>-0.004</td>\n",
       "      <td>-0.007</td>\n",
       "      <td>-0.011</td>\n",
       "      <td>-0.013</td>\n",
       "      <td>-0.014</td>\n",
       "      <td>-0.016</td>\n",
       "      <td>-0.016</td>\n",
       "      <td>-0.016</td>\n",
       "    </tr>\n",
       "    <tr>\n",
       "      <th>2016-05-26</th>\n",
       "      <td>-0.025</td>\n",
       "      <td>-0.033</td>\n",
       "      <td>-0.033</td>\n",
       "      <td>-0.032</td>\n",
       "      <td>-0.028</td>\n",
       "      <td>-0.023</td>\n",
       "      <td>-0.020</td>\n",
       "      <td>-0.017</td>\n",
       "      <td>-0.015</td>\n",
       "      <td>-0.013</td>\n",
       "      <td>-0.009</td>\n",
       "      <td>-0.007</td>\n",
       "      <td>-0.006</td>\n",
       "    </tr>\n",
       "    <tr>\n",
       "      <th>2016-05-27</th>\n",
       "      <td>0.003</td>\n",
       "      <td>0.000</td>\n",
       "      <td>-0.004</td>\n",
       "      <td>-0.008</td>\n",
       "      <td>-0.009</td>\n",
       "      <td>-0.010</td>\n",
       "      <td>-0.009</td>\n",
       "      <td>-0.007</td>\n",
       "      <td>-0.006</td>\n",
       "      <td>-0.006</td>\n",
       "      <td>0.000</td>\n",
       "      <td>0.003</td>\n",
       "      <td>0.007</td>\n",
       "    </tr>\n",
       "    <tr>\n",
       "      <th>2016-05-30</th>\n",
       "      <td>0.000</td>\n",
       "      <td>0.000</td>\n",
       "      <td>0.000</td>\n",
       "      <td>0.000</td>\n",
       "      <td>0.000</td>\n",
       "      <td>0.000</td>\n",
       "      <td>0.000</td>\n",
       "      <td>0.000</td>\n",
       "      <td>0.000</td>\n",
       "      <td>0.000</td>\n",
       "      <td>0.000</td>\n",
       "      <td>0.000</td>\n",
       "      <td>0.000</td>\n",
       "    </tr>\n",
       "  </tbody>\n",
       "</table>\n",
       "</div>"
      ],
      "text/plain": [
       "               1Y     2Y     3Y     4Y     5Y     6Y     7Y     8Y     9Y  \\\n",
       "DATE                                                                        \n",
       "2016-05-24  0.008  0.017  0.018  0.019  0.018  0.018  0.016  0.016  0.016   \n",
       "2016-05-25 -0.004 -0.005 -0.003 -0.001 -0.001 -0.004 -0.007 -0.011 -0.013   \n",
       "2016-05-26 -0.025 -0.033 -0.033 -0.032 -0.028 -0.023 -0.020 -0.017 -0.015   \n",
       "2016-05-27  0.003  0.000 -0.004 -0.008 -0.009 -0.010 -0.009 -0.007 -0.006   \n",
       "2016-05-30  0.000  0.000  0.000  0.000  0.000  0.000  0.000  0.000  0.000   \n",
       "\n",
       "              10Y    15Y    20Y    30Y  \n",
       "DATE                                    \n",
       "2016-05-24  0.016  0.015  0.016  0.017  \n",
       "2016-05-25 -0.014 -0.016 -0.016 -0.016  \n",
       "2016-05-26 -0.013 -0.009 -0.007 -0.006  \n",
       "2016-05-27 -0.006  0.000  0.003  0.007  \n",
       "2016-05-30  0.000  0.000  0.000  0.000  "
      ]
     },
     "execution_count": 110,
     "metadata": {},
     "output_type": "execute_result"
    }
   ],
   "source": [
    "_5d_change = changes_test[:5]\n",
    "_5d_total_change = _5d_change.sum()\n",
    "_5d_change"
   ]
  },
  {
   "cell_type": "markdown",
   "metadata": {},
   "source": [
    "After 5 days, the pnl to the porfolio can be calculated:"
   ]
  },
  {
   "cell_type": "code",
   "execution_count": 118,
   "metadata": {
    "code_folding": []
   },
   "outputs": [
    {
     "data": {
      "text/plain": [
       "-1049.2"
      ]
     },
     "execution_count": 118,
     "metadata": {},
     "output_type": "execute_result"
    }
   ],
   "source": [
    "#Pnl of Portfolio\n",
    "round(np.dot(_5d_total_change, portfolio_risk)[0],2)"
   ]
  },
  {
   "cell_type": "markdown",
   "metadata": {},
   "source": [
    "However, the trader might want to know what caused his/her portfolio to lose/gain this amount of money. Sure, he/she can just look at the total 5d change and say that the portfolio gained from a raise in 2Y rates, loss from a drop in 3Y rates ... loss from a drop in 30Y rates. But this just seems unnecessarily verbose and uninformative."
   ]
  },
  {
   "cell_type": "markdown",
   "metadata": {},
   "source": [
    "Instead, the trader's portfolio can be explained by factor exposures to Principal Components:"
   ]
  },
  {
   "cell_type": "code",
   "execution_count": 117,
   "metadata": {
    "code_folding": [
     0
    ]
   },
   "outputs": [
    {
     "data": {
      "text/html": [
       "<div>\n",
       "<style scoped>\n",
       "    .dataframe tbody tr th:only-of-type {\n",
       "        vertical-align: middle;\n",
       "    }\n",
       "\n",
       "    .dataframe tbody tr th {\n",
       "        vertical-align: top;\n",
       "    }\n",
       "\n",
       "    .dataframe thead th {\n",
       "        text-align: right;\n",
       "    }\n",
       "</style>\n",
       "<table border=\"1\" class=\"dataframe\">\n",
       "  <thead>\n",
       "    <tr style=\"text-align: right;\">\n",
       "      <th></th>\n",
       "      <th>PC1</th>\n",
       "      <th>PC2</th>\n",
       "      <th>PC3</th>\n",
       "      <th>Total</th>\n",
       "    </tr>\n",
       "  </thead>\n",
       "  <tbody>\n",
       "    <tr>\n",
       "      <th>Pnl</th>\n",
       "      <td>-2356.652473</td>\n",
       "      <td>1670.219</td>\n",
       "      <td>29.340041</td>\n",
       "      <td>-657.093432</td>\n",
       "    </tr>\n",
       "  </tbody>\n",
       "</table>\n",
       "</div>"
      ],
      "text/plain": [
       "             PC1       PC2        PC3       Total\n",
       "Pnl -2356.652473  1670.219  29.340041 -657.093432"
      ]
     },
     "execution_count": 117,
     "metadata": {},
     "output_type": "execute_result"
    }
   ],
   "source": [
    "#Calculate PC Attribution\n",
    "pc1_change = np.dot(pc1, _5d_total_change)\n",
    "pc2_change = np.dot(pc2, _5d_total_change)\n",
    "pc3_change = np.dot(pc3, _5d_total_change)\n",
    "\n",
    "pc1_explain = pc_df.loc[\"PC1\"].values[0]*pc1_change\n",
    "pc2_explain = pc_df.loc[\"PC2\"].values[0]*pc2_change\n",
    "pc3_explain = pc_df.loc[\"PC3\"].values[0]*pc3_change\n",
    "total_explain = pc1_explain + pc2_explain + pc3_explain\n",
    "\n",
    "pc_explain_df = pd.DataFrame(index = [\"PC1\", \"PC2\", \"PC3\", \"Total\"])\n",
    "pc_explain_df[\"Pnl\"] = [pc1_explain, pc2_explain, pc3_explain, total_explain]\n",
    "pc_explain_df.T"
   ]
  },
  {
   "cell_type": "markdown",
   "metadata": {},
   "source": [
    "The total pnl that is explained is  $-\\$5146$ while the total actual pnl is $-\\$5090$ which is pretty close. From this table, we can see that the trader loss $-\\$2511$ from exposure to PC1, $-\\$2447$ from exposure to PC2 and $-\\$188$ from PC3."
   ]
  },
  {
   "cell_type": "code",
   "execution_count": null,
   "metadata": {},
   "outputs": [],
   "source": []
  },
  {
   "cell_type": "markdown",
   "metadata": {},
   "source": [
    "## Limitations/ Effectiveness"
   ]
  },
  {
   "cell_type": "markdown",
   "metadata": {},
   "source": [
    "### i) Checking residuals\n",
    "It is important to ensure that the our PCA model is effective. We can examine the residuals of the model by training the model on a training data set and then evaluating the model's effectiveness on a test set of data"
   ]
  },
  {
   "cell_type": "code",
   "execution_count": 113,
   "metadata": {
    "code_folding": [
     0,
     3
    ]
   },
   "outputs": [],
   "source": [
    "def projection(pcs, data_point):\n",
    "    \"\"\"Get projection of rate moves\"\"\"\n",
    "    return np.dot(pcs, np.dot(pcs.T, data_point))\n",
    "def get_resids(pcs, data_point):\n",
    "    \"\"\"Get residuals of rate moves\"\"\"\n",
    "    return data_point - projection(pcs, data_point)\n",
    "\n",
    "all_resids = changes_test.apply(lambda x: get_resids(pcs, x), axis = 1)"
   ]
  },
  {
   "cell_type": "code",
   "execution_count": 114,
   "metadata": {
    "code_folding": [
     0
    ]
   },
   "outputs": [
    {
     "data": {
      "image/png": "[encoded data removed]",
      "text/plain": [
       "<Figure size 1440x720 with 2 Axes>"
      ]
     },
     "metadata": {},
     "output_type": "display_data"
    }
   ],
   "source": [
    "#Plot of Residuals\n",
    "cum_resids = all_resids.cumsum()\n",
    "\n",
    "fig, ax = plt.subplots(2,1, figsize = (20,10))\n",
    "ax[0].plot(all_resids);\n",
    "ax[0].legend(all_resids.columns)\n",
    "ax[0].set_title(\"Plot of Daily Swap Residual using Training Data from 01-2016 to 05-2016\");\n",
    "\n",
    "ax[1].plot(cum_resids);\n",
    "ax[1].legend(cum_resids.columns)\n",
    "ax[1].set_title(\"Plot of Cumulative Sum Swap Residual using Training Data from 01-2016 to 05-2016\");"
   ]
  },
  {
   "cell_type": "markdown",
   "metadata": {},
   "source": [
    "### Observations:\n",
    "##### Daily Swap Residual Plot\n",
    "1. We can see that the daily swap residual for each tenor is approximately normal distributed <br\\>\n",
    "2. We see some daily residual spikes in 2020. This might be due to crazy market movements during the pandemic <br\\>\n",
    "\n",
    "##### Cumulative Swap Residual Plot\n",
    "1. We can see that the cumulative sum of residuals of the 1Y swap seems much higher than the cumulative sum of other tenors. This may suggest that the PCA model fits poorly on the 1Y swap <br\\>\n",
    "2. We can see that the fit gets worst as time goes by. This could be due to a regime change in the markets as the market between 01-2016 to 05-2016 is different from the market in 2020. ***The input data length as well as the frequency of re-training is more of a data science problem.***"
   ]
  },
  {
   "cell_type": "code",
   "execution_count": null,
   "metadata": {},
   "outputs": [],
   "source": []
  }
 ],
 "metadata": {
  "kernelspec": {
   "display_name": "Python 3",
   "language": "python",
   "name": "python3"
  },
  "language_info": {
   "codemirror_mode": {
    "name": "ipython",
    "version": 3
   },
   "file_extension": ".py",
   "mimetype": "text/x-python",
   "name": "python",
   "nbconvert_exporter": "python",
   "pygments_lexer": "ipython3",
   "version": "3.6.4"
  }
 },
 "nbformat": 4,
 "nbformat_minor": 2
}
